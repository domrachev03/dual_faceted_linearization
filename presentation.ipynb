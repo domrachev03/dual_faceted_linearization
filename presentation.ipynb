{
 "cells": [
  {
   "cell_type": "markdown",
   "metadata": {},
   "source": [
    "## Data-driven linearization\n",
    "by Domrachev Ivan, B20-Ro-01"
   ]
  },
  {
   "cell_type": "markdown",
   "metadata": {},
   "source": [
    "This notebook overviews the field of linearization, shows different approaches to linearize the system and provides with some applications and examples of system linearization"
   ]
  },
  {
   "cell_type": "markdown",
   "metadata": {},
   "source": [
    "## Structure\n"
   ]
  },
  {
   "cell_type": "markdown",
   "metadata": {},
   "source": [
    "The structure is the following:\n",
    "1. Motivation\n",
    "2. Taylor linearization\n",
    "3. Koopman theory, EDMD\n",
    "4. Dual Faceted Linearization\n",
    "5. Applications & Examples"
   ]
  },
  {
   "cell_type": "markdown",
   "metadata": {},
   "source": [
    "## Motivation"
   ]
  },
  {
   "cell_type": "markdown",
   "metadata": {},
   "source": [
    "Linear systems are:\n",
    "1. Have simple structure\n",
    "2. Trivial to control\n",
    "3. Can be analyzed using powerful mathematical tools\n",
    "4. Computationally effiicent to evaluate"
   ]
  },
  {
   "cell_type": "markdown",
   "metadata": {},
   "source": [
    "On the other hand, nonlinear systems are:\n",
    "1. Have a complex inner structure\n",
    "2. Each nonlinear system is unique\n",
    "3. Very hard to control\n",
    "4. Computationally hard to control"
   ]
  },
  {
   "cell_type": "markdown",
   "metadata": {},
   "source": [
    "Naturally, one might wonder: is it possible to approximate nonlinear system with linear one?\n",
    "\n",
    "Here we would go through some existing methods of doing so."
   ]
  },
  {
   "cell_type": "markdown",
   "metadata": {},
   "source": [
    "## Taylor linearizatoin"
   ]
  },
  {
   "cell_type": "markdown",
   "metadata": {},
   "source": [
    "Most popular and, ironically, the most inaccurate linearization method. It is based on the Taylor Series decomposition:\n",
    "$$f(x) = f(a) + f'(a) (x-a) + \\frac{f''(a)}{2} (x-a)^2 + \\ldots + \\frac{f^{(n)}(a)}{2} (x-a)^n + \\ldots \\approx f(a) + f'(a) (x-a).$$\n",
    "The above approximation is generalized for the vector space as following:\n",
    "$$f(\\bold{x}) \\approx f(\\bold{a}) + \\frac{\\partial f}{\\partial \\bold{x}} (\\bold{a})\\bold{x}$$\n",
    " "
   ]
  },
  {
   "cell_type": "markdown",
   "metadata": {},
   "source": [
    "Therefore, to find an taylor linearization, one need to: \n",
    "1. Choose a point, where linearizatoin would be\n",
    "2. Calculate a jacobian of the function at this point\n",
    "3. The linear function is: $f(\\bold{x}) = f(\\bold{a}) + \\frac{\\partial f}{\\partial \\bold{x}} (\\bold{a})(\\bold{x} - \\bold{a}) = f(\\bold{a}) + A(\\bold{x} - \\bold{a})$"
   ]
  },
  {
   "cell_type": "code",
   "execution_count": 6,
   "metadata": {},
   "outputs": [],
   "source": [
    "from darli.models import RobotModel\n",
    "import casadi as cs\n",
    "import numpy as np\n",
    "\n",
    "x = cs.SX.sym('x', 1)\n",
    "v = cs.SX.sym('v', 1)\n",
    "state = cs.vertcat(x, v)\n",
    "f = cs.Function('f', [state], [cs.vertcat(v, -cs.sin(x))])\n",
    "jacobian = cs.Function('J', [state], [cs.jacobian(f(state), state)])\n",
    "A = jacobian(np.zeros(2))\n",
    "\n",
    "f_hat = cs.Function('f', [state], [A @ state])"
   ]
  },
  {
   "cell_type": "code",
   "execution_count": 8,
   "metadata": {},
   "outputs": [
    {
     "data": {
      "text/plain": [
       "SX(\n",
       "[[00, 1], \n",
       " [(-cos(x)), 00]])"
      ]
     },
     "execution_count": 8,
     "metadata": {},
     "output_type": "execute_result"
    }
   ],
   "source": [
    "cs.jacobian(f(state), state)"
   ]
  },
  {
   "cell_type": "markdown",
   "metadata": {},
   "source": [
    "The Taylor linearization is commonly used for:\n",
    "1. Estimating a type of equilibrium \n",
    "2. Calculating the region of attraction using Lyapunov theory (more on that later)\n",
    "\n",
    "However, the Taylor linearization has two key disadvantages:\n",
    "1. It quickly becomes inaccurate\n",
    "2. It's valid only in a neighbourhood (almost always very small one) around point of linearization"
   ]
  },
  {
   "cell_type": "markdown",
   "metadata": {},
   "source": [
    "## Koopman theory, Extended Dynamic Mode Decomposition (EDMD)"
   ]
  },
  {
   "cell_type": "markdown",
   "metadata": {},
   "source": [
    "In the year 1931, Koopman in his work showed that *any nonlinear system could be approximated as a linear system in infinite dimensional space.* He did it by introducing so called **Koopman operator** for a dynamical system $\\dot{x} = f(x)$, defined as:\n",
    "$$(K\\psi)(x) = \\psi(f(x))$$\n",
    "\n",
    "and showed that if will be linear, but have infinite dimensions, then every nonlinear function could be described by it."
   ]
  },
  {
   "cell_type": "markdown",
   "metadata": {},
   "source": [
    "It took around 80 years to realise, that this theory is applicable for linearization of dynamical systems. In year 2015, Matthew O. Williams noted, that one might not use the infinite linear space, but just **one that is big enough.**\n",
    "\n",
    "Indeed, it turns out that it's usually much easier to work with high-dimensional (say, $\\mathbb{R}^{100}$) linear system, rather than with low-dimensional nonlinear one. This idea got a name of **lifting linearization.**"
   ]
  },
  {
   "cell_type": "markdown",
   "metadata": {},
   "source": [
    "Let's assume that we have chosed some Koopman operator $z = \\psi(x)$. Now, the task is to find such a matrix $A$ such that function\n",
    "$$\\hat{f}(z) = Az$$\n",
    "would be the best approximation of the original system. "
   ]
  },
  {
   "cell_type": "markdown",
   "metadata": {},
   "source": [
    "![](fig/lifted_linearization.jpg)"
   ]
  },
  {
   "cell_type": "markdown",
   "metadata": {},
   "source": [
    "The method that Williams suggested was to collect lots of data points, and use them for creation of least squares problem:\n",
    "$$\\begin{equation}\n",
    "\\begin{aligned}\n",
    "\\min_{A} \\quad & \\sum_{j=1}^{K}{||\\psi({x}_{j+1}) - A \\psi(x)_j||_2}\\\\\n",
    "\\end{aligned}\n",
    "\\end{equation}\n",
    "$$\n",
    "\n",
    "This approach is called Extended Dynamic Mode Decomposition (EDMD) algorithm"
   ]
  },
  {
   "cell_type": "markdown",
   "metadata": {},
   "source": [
    "It's worth mentioning that there are many different ways of choosing the family of functions to put in $\\psi$. Among them are:\n",
    "1. Radial Basis Function $\\psi(x) = ||x - x_0||_2^2\\ log(||x - x_0||)$\n",
    "2. Polynomials\n",
    "3. Trigonometric functions\n",
    "   \n",
    "And so on. Usually, they should have some parameters."
   ]
  },
  {
   "cell_type": "markdown",
   "metadata": {},
   "source": [
    "To sum up, the pipeline for implementing EDMD is the following:\n",
    "1. Choose the function $\\psi(x)$\n",
    "2. Run the simulation of the nonlinear system to obtain the data samples $(x_j, v_j)$\n",
    "3. Solve the optimization problem to find the matrix $A$\n",
    "4. $\\hat{f}(z) = Az, z_0 = \\psi(x_0)$ is the resulting dynamics"
   ]
  },
  {
   "cell_type": "markdown",
   "metadata": {},
   "source": [
    "> Note: The natural question is how to deduce the value $x$ from the resulting simulation. The answer is simple: no one prevents you from including the original state as a part of liftign one, i.e.:\n",
    "> $$z = \\psi(x) = \\begin{bmatrix} x_0 \\\\ x_1 \\\\ \\vdots \\\\ x_n \\\\ ||x - x_0^1||_2^2\\ log(||x - x_0^1||) \\\\ ||x - x_0^2||_2^2\\ log(||x - x_0^2||) \\\\ \\vdots \\end{bmatrix}$$"
   ]
  },
  {
   "cell_type": "markdown",
   "metadata": {},
   "source": [
    "## Dual Faceted Linearization"
   ]
  },
  {
   "cell_type": "markdown",
   "metadata": {},
   "source": [
    "Another approach to the problem was suggested by H. Asada in year 2019. It was based on two main ideas:\n",
    "1. Many physical systems are represented as sum of nonlinear components\n",
    "2. By combining the predictions from two different linear approximations of nonlinear dynamics, one could obtain a much more accurate results"
   ]
  },
  {
   "cell_type": "markdown",
   "metadata": {},
   "source": [
    "<center><img src=\"fig/dfl.jpg\" width=600 alt=\"my alt text\"/></center>"
   ]
  },
  {
   "cell_type": "markdown",
   "metadata": {},
   "source": [
    "To use this properties, he suggested to represent the given nonlinear system $\\dot{x} = f(x)$ as follows:\n",
    "$$\\dot{x} = A_x x + A_\\eta \\eta + Bu,$$\n",
    "where $\\eta = \\eta(x)$ is some nonlinear function of the original state. With that in mind, he suggested to construct *another differential equation* like the following:\n",
    "$$\\dot{\\eta} = H_x x + H_\\eta \\eta + H_u u.$$\n",
    "Here, the matrices $H_{x, \\eta, u}$ are initially unknown, so it's possible to find them by using the data from the nonlienar system: "
   ]
  }
 ],
 "metadata": {
  "kernelspec": {
   "display_name": "darli",
   "language": "python",
   "name": "python3"
  },
  "language_info": {
   "codemirror_mode": {
    "name": "ipython",
    "version": 3
   },
   "file_extension": ".py",
   "mimetype": "text/x-python",
   "name": "python",
   "nbconvert_exporter": "python",
   "pygments_lexer": "ipython3",
   "version": "3.10.13"
  }
 },
 "nbformat": 4,
 "nbformat_minor": 2
}
