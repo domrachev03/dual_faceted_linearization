{
 "cells": [
  {
   "cell_type": "markdown",
   "metadata": {},
   "source": [
    "# DFL applied to extended ROA analysis"
   ]
  },
  {
   "cell_type": "code",
   "execution_count": 1,
   "metadata": {},
   "outputs": [],
   "source": [
    "from darli.models import RobotModel     # Rofl, bez nee casadi ne importiruetsya\n",
    "import casadi as cs\n",
    "import numpy as np\n",
    "import cvxpy as cp\n",
    "import matplotlib.pyplot as plt\n",
    "from tqdm import tqdm\n",
    "from scipy.integrate import solve_ivp\n",
    "from utils import draw_elipse, phase_portrait, sampling_roa"
   ]
  },
  {
   "cell_type": "markdown",
   "metadata": {},
   "source": [
    "## Inverted time Van der Pol oscillator"
   ]
  },
  {
   "cell_type": "markdown",
   "metadata": {},
   "source": [
    "The equation is:\n",
    "$$\\ddot{x} = -(1-x^2)\\dot{v} - x + u$$\n",
    "\n",
    "For the DFL linearization, let's choose:\n",
    "$$\\eta = \\begin{bmatrix} x^2 \\dot{x} \\end{bmatrix}.$$\n"
   ]
  },
  {
   "cell_type": "markdown",
   "metadata": {},
   "source": [
    "If we introduce $q = \\begin{bmatrix} x \\\\ \\dot{x} \\end{bmatrix}$\n",
    "Then, the equation would be:\n",
    "$$\\dot{q} = \\begin{bmatrix} 0 & 1 \\\\ -1 & -1 \\end{bmatrix} q + \\begin{bmatrix} 0 \\\\ 1 \\end{bmatrix} \\eta + \\begin{bmatrix} 0 \\\\ 1 \\end{bmatrix} u \\equiv A_q q + A_\\eta \\eta + Bu$$\n"
   ]
  },
  {
   "cell_type": "code",
   "execution_count": 2,
   "metadata": {},
   "outputs": [],
   "source": [
    "nx, nv, neta = 1, 1, 1\n",
    "\n",
    "x = cs.SX.sym('x', nx)\n",
    "v = cs.SX.sym('v', nv)\n",
    "dv = cs.SX.sym('dv', nv)\n",
    "\n",
    "state = cs.vertcat(x, v)\n",
    "state_dot = cs.vertcat(v, dv)"
   ]
  },
  {
   "cell_type": "code",
   "execution_count": 3,
   "metadata": {},
   "outputs": [],
   "source": [
    "# Inverted-time Van der Pol no. 1\n",
    "f = cs.Function(\"f\", [state], [cs.vertcat(v, -(1-x**2)*v - x)])\n",
    "eta = x**2 * v\n",
    "A_x = np.array([[0, 1], [-1, -1]])\n",
    "A_eta = np.array([0, 1]).reshape(-1, 1)\n",
    "\n",
    "# Inverted-time Van der Pol no. 2\n",
    "# f = cs.Function(\"f\", [state], [cs.vertcat(v, -x-v + (x**3)/3)])\n",
    "# eta = x**3 / 3\n",
    "# A_x = np.array([[0, 1], [-1, -1]])\n",
    "# A_eta = np.array([0, 1]).reshape(-1, 1)\n",
    "\n",
    "# Pendulum\n",
    "# f = cs.Function(\"f\", [state], [cs.vertcat(v, -9.81 * cs.sin(x))])\n",
    "# eta = -cs.sin(x)\n",
    "# A_x = np.array([[0, 1], [0, 0]])\n",
    "# A_eta = np.array([0, 9.81]).reshape(-1, 1)\n"
   ]
  },
  {
   "cell_type": "code",
   "execution_count": 4,
   "metadata": {},
   "outputs": [],
   "source": [
    "# There would be two types of symbolic etas: eta(x) and eta as free variable\n",
    "# It's important to note where which variable is used\n",
    "eta_sym = cs.SX.sym('eta', neta)"
   ]
  },
  {
   "cell_type": "code",
   "execution_count": 5,
   "metadata": {},
   "outputs": [],
   "source": [
    "eta_fn = cs.Function(\"eta\", [state], [eta])\n",
    "\n",
    "# State + auxiliary variables\n",
    "full_state = cs.vertcat(state, eta)\n",
    "full_state_sym = cs.vertcat(state, eta_sym)"
   ]
  },
  {
   "cell_type": "code",
   "execution_count": 6,
   "metadata": {},
   "outputs": [
    {
     "data": {
      "text/plain": [
       "(DM([1.17705, 4.92072]), DM([1.17705, 4.92072]))"
      ]
     },
     "execution_count": 6,
     "metadata": {},
     "output_type": "execute_result"
    }
   ],
   "source": [
    "# Verification that matrices are chosed correctly\n",
    "f_lin = cs.Function(\"f_lin\", [state], [A_x @ state + A_eta @ eta])\n",
    "\n",
    "state_np = np.random.uniform(-2, 2, size=(2,))\n",
    "\n",
    "f_lin(state_np), f(state_np)"
   ]
  },
  {
   "cell_type": "markdown",
   "metadata": {},
   "source": [
    "### Data sampling"
   ]
  },
  {
   "cell_type": "code",
   "execution_count": 7,
   "metadata": {},
   "outputs": [],
   "source": [
    "# Simulation parameters\n",
    "dt_sim = 1e-3\n",
    "dt_sample = 1e-2\n",
    "n_samples = 100\n",
    "t_end = 10\n",
    "x_range = (-5, 5)"
   ]
  },
  {
   "cell_type": "code",
   "execution_count": 8,
   "metadata": {},
   "outputs": [],
   "source": [
    "!pip install -q tqdm"
   ]
  },
  {
   "cell_type": "code",
   "execution_count": 9,
   "metadata": {},
   "outputs": [
    {
     "name": "stderr",
     "output_type": "stream",
     "text": [
      "  0%|          | 0/100 [00:00<?, ?it/s]"
     ]
    },
    {
     "name": "stderr",
     "output_type": "stream",
     "text": [
      "100%|██████████| 100/100 [00:33<00:00,  3.02it/s]\n"
     ]
    }
   ],
   "source": [
    "ts = np.arange(0, t_end, dt_sim)\n",
    "save_each = int(dt_sample / dt_sim)\n",
    "state_samples = []\n",
    "\n",
    "f_np = lambda t, x: np.array(f(x)).ravel()\n",
    "\n",
    "progress_bar = tqdm(total=n_samples)\n",
    "\n",
    "while len(state_samples) < n_samples:\n",
    "    state_np = np.random.uniform(*x_range, size=(2,))\n",
    "    sol = solve_ivp(\n",
    "        f_np,\n",
    "        (0, t_end),\n",
    "        state_np,\n",
    "        t_eval=ts\n",
    "    )\n",
    "    if sol.status == 0:\n",
    "        progress_bar.update(1)\n",
    "        state_samples.append(sol.y.T[::save_each])\n",
    "progress_bar.close()"
   ]
  },
  {
   "cell_type": "code",
   "execution_count": 10,
   "metadata": {},
   "outputs": [
    {
     "data": {
      "text/plain": [
       "(100000, 2)"
      ]
     },
     "execution_count": 10,
     "metadata": {},
     "output_type": "execute_result"
    }
   ],
   "source": [
    "state_np = np.concatenate(state_samples, axis=0)\n",
    "v_dot_np = np.array([\n",
    "    f_np(0, state_i) for state_i in state_np\n",
    "])\n",
    "# It's not multiple of n_samples, because some samples diverged and did not finish the iteration\n",
    "state_np.shape"
   ]
  },
  {
   "cell_type": "code",
   "execution_count": null,
   "metadata": {},
   "outputs": [],
   "source": []
  },
  {
   "cell_type": "code",
   "execution_count": 11,
   "metadata": {},
   "outputs": [],
   "source": [
    "eta_dot = cs.jacobian(eta, state) @ cs.vertcat(v, dv)\n",
    "eta_dot_fn = cs.Function(\n",
    "    \"eta_dot\", \n",
    "    [state, dv], \n",
    "    [\n",
    "        eta_dot\n",
    "    ]\n",
    ")\n",
    "\n",
    "eta_np = np.array([\n",
    "    eta_fn(state_i) for state_i in state_np\n",
    "])[:, :, 0]"
   ]
  },
  {
   "cell_type": "code",
   "execution_count": 12,
   "metadata": {},
   "outputs": [],
   "source": [
    "eta_dot_np = np.array([\n",
    "    eta_dot_fn(state_i, v_dot_i[1]) for state_i, v_dot_i in zip(state_np, v_dot_np)\n",
    "])[:, :, 0]"
   ]
  },
  {
   "cell_type": "code",
   "execution_count": 13,
   "metadata": {},
   "outputs": [
    {
     "data": {
      "text/plain": [
       "(100000, 3)"
      ]
     },
     "execution_count": 13,
     "metadata": {},
     "output_type": "execute_result"
    }
   ],
   "source": [
    "full_state_np = np.concatenate([state_np, eta_np], axis=1)\n",
    "\n",
    "full_state_np.shape"
   ]
  },
  {
   "cell_type": "code",
   "execution_count": 14,
   "metadata": {},
   "outputs": [],
   "source": [
    "H_w_cp = cp.Variable((1, 3))\n",
    "objective_samples = 1/len(full_state_np) * cp.sum_squares(eta_dot_np.T - H_w_cp@full_state_np.T)\n",
    "problem_samples = cp.Problem(cp.Minimize(objective_samples))\n",
    "problem_samples.solve(solver=cp.OSQP)\n",
    "\n",
    "H_w_np = H_w_cp.value"
   ]
  },
  {
   "cell_type": "code",
   "execution_count": 15,
   "metadata": {},
   "outputs": [
    {
     "data": {
      "text/plain": [
       "(100000, 2)"
      ]
     },
     "execution_count": 15,
     "metadata": {},
     "output_type": "execute_result"
    }
   ],
   "source": [
    "state_np.shape"
   ]
  },
  {
   "cell_type": "code",
   "execution_count": 16,
   "metadata": {},
   "outputs": [],
   "source": [
    "def f_lin(t, x):\n",
    "    state, eta = x[:-1], x[-1:]\n",
    "    state_dot = A_x @ state + A_eta @ eta\n",
    "    eta_dot = H_w_np @ x\n",
    "\n",
    "    return np.concatenate([state_dot, eta_dot])\n",
    "\n",
    "# state_np = np.random.uniform(-2, 2, size=(2, ))\n",
    "state_np = np.array([-1, 2])\n",
    "eta_np = np.array(eta_fn(state_np)).ravel()\n",
    "\n",
    "full_state_np = np.concatenate([state_np, eta_np], axis=0)\n",
    "\n",
    "sol = solve_ivp(\n",
    "    f_np,\n",
    "    (0, t_end),\n",
    "    state_np,\n",
    "    t_eval=ts\n",
    ")\n",
    "\n",
    "lin_sol = solve_ivp(\n",
    "    f_lin,\n",
    "    (0, t_end),\n",
    "    full_state_np,\n",
    "    t_eval=ts\n",
    ")"
   ]
  },
  {
   "cell_type": "code",
   "execution_count": 17,
   "metadata": {},
   "outputs": [
    {
     "data": {
      "text/plain": [
       "((2, 10000), (3, 10000))"
      ]
     },
     "execution_count": 17,
     "metadata": {},
     "output_type": "execute_result"
    }
   ],
   "source": [
    "sol.y.shape, lin_sol.y.shape"
   ]
  },
  {
   "cell_type": "code",
   "execution_count": 18,
   "metadata": {},
   "outputs": [
    {
     "data": {
      "image/png": "[encoded data removed]",
      "text/plain": [
       "<Figure size 1200x800 with 3 Axes>"
      ]
     },
     "metadata": {},
     "output_type": "display_data"
    }
   ],
   "source": [
    "fig, ax = plt.subplots(3, 1, figsize=(12, 8))\n",
    "# sol.y = sol.y[:, :1000]\n",
    "for i in range(2):\n",
    "    ax[i].plot(ts[:len(lin_sol.y[i])], lin_sol.y[i], label=f\"q{i} DFL\")\n",
    "    ax[i].set_title('Positions')\n",
    "    ax[i].plot(ts[:len(sol.y[i])], sol.y[i], label=f\"q{i} real\")\n",
    "    ax[i].legend()\n",
    "eta_sol = np.array(\n",
    "    [eta_fn(state_i) for state_i in sol.y.T]\n",
    ").reshape(-1, 1)\n",
    "ax[2].set_title('Auxiliary Variable')\n",
    "ax[2].plot(ts[:len(lin_sol.y[-1])], lin_sol.y[-1], label=f\"eta DFL\")\n",
    "ax[2].plot(ts[:len(eta_sol)], eta_sol, label=\"eta real\")\n",
    "ax[2].legend()\n",
    "plt.show()"
   ]
  },
  {
   "cell_type": "markdown",
   "metadata": {},
   "source": [
    "## Regions of Attraction"
   ]
  },
  {
   "cell_type": "markdown",
   "metadata": {},
   "source": [
    "### LTI LQR"
   ]
  },
  {
   "cell_type": "markdown",
   "metadata": {},
   "source": [
    "Now, let's analyse the following Lyapunov candidate:\n",
    "$$V = \\frac{1}{2} \\eta^T P \\eta,$$\n",
    "where $P$ is a matrix, resulting from LTI LQR discrete control."
   ]
  },
  {
   "cell_type": "code",
   "execution_count": 19,
   "metadata": {},
   "outputs": [],
   "source": [
    "A_np = np.zeros(((3, 3)))\n",
    "A_np[:2, :2] = A_x\n",
    "A_np[:2, 2:] = A_eta\n",
    "A_np[2:] = H_w_np\n",
    "\n",
    "A = cs.SX(A_np)"
   ]
  },
  {
   "cell_type": "code",
   "execution_count": 20,
   "metadata": {},
   "outputs": [],
   "source": [
    "from scipy.linalg import solve_continuous_lyapunov as lyap\n",
    "\n",
    "Q_np = np.eye(3)\n",
    "P_np = lyap(A_np.T, -Q_np)\n",
    "P = cs.SX(P_np)"
   ]
  },
  {
   "cell_type": "code",
   "execution_count": 21,
   "metadata": {},
   "outputs": [
    {
     "data": {
      "text/plain": [
       "SX(\n",
       "[[1.91373, 0.632102, -0.239062], \n",
       " [0.632102, 2.06213, -1.01673], \n",
       " [-0.239062, -1.01673, 2.90696]])"
      ]
     },
     "execution_count": 21,
     "metadata": {},
     "output_type": "execute_result"
    }
   ],
   "source": [
    "P"
   ]
  },
  {
   "cell_type": "code",
   "execution_count": 22,
   "metadata": {},
   "outputs": [],
   "source": [
    "def sampling_roa(f, V, dV, x_bounds, N=100):\n",
    "    x_min, x_max = x_bounds\n",
    "    x_range = np.array(x_max) - np.array(x_min)\n",
    "    n = np.shape(x_min)[0]\n",
    "\n",
    "    c = np.inf\n",
    "    ct = []\n",
    "\n",
    "    for i in range(N):\n",
    "        x_i = x_min + x_range*np.random.rand(n)\n",
    "        dV_i = dV(x_i)\n",
    "        V_i = V(x_i)\n",
    "        if dV_i >= 0 and V_i <= c:\n",
    "            c = V_i\n",
    "            ct.append(c)  \n",
    "    \n",
    "    return c, np.array(ct)"
   ]
  },
  {
   "cell_type": "code",
   "execution_count": 23,
   "metadata": {},
   "outputs": [],
   "source": [
    "V = 1/2 * full_state.T @ P @ full_state\n",
    "V_fn = cs.Function('V', [state], [V])\n",
    "V_dot_fn = cs.Function('V_dot', [state], [cs.jacobian(V, state) @ f(state)])"
   ]
  },
  {
   "cell_type": "code",
   "execution_count": 24,
   "metadata": {},
   "outputs": [
    {
     "data": {
      "text/plain": [
       "DM(1.18712)"
      ]
     },
     "execution_count": 24,
     "metadata": {},
     "output_type": "execute_result"
    }
   ],
   "source": [
    "state_lims = np.array([\n",
    "    [-2, -2],\n",
    "    [2, 2]\n",
    "])\n",
    "\n",
    "r_dfl, _ = sampling_roa(f, V_fn, V_dot_fn, state_lims, N = 10000)\n",
    "levelset_dfl = cs.Function('V_level', [state], [V - r_dfl])\n",
    "r_dfl"
   ]
  },
  {
   "cell_type": "code",
   "execution_count": 25,
   "metadata": {},
   "outputs": [],
   "source": [
    "jacobian = cs.Function('jacobian', [state], [cs.jacobian(f(state), state)])\n",
    "A_taylor = jacobian(np.zeros(2))\n",
    "Q_taylor = np.eye(2)\n",
    "\n",
    "P_taylor = lyap(A_taylor.T, -Q_taylor)\n",
    "\n",
    "V_taylor = 1/2 * state.T @ P_taylor @ state\n",
    "V_taylor_fn = cs.Function('V_taylor', [state], [V_taylor])\n",
    "V_taylor_dot_fn = cs.Function('V_taylor', [state], [cs.jacobian(V_taylor, state) @ f(state)])"
   ]
  },
  {
   "cell_type": "code",
   "execution_count": 26,
   "metadata": {},
   "outputs": [
    {
     "data": {
      "text/plain": [
       "DM(1.1771)"
      ]
     },
     "execution_count": 26,
     "metadata": {},
     "output_type": "execute_result"
    }
   ],
   "source": [
    "r_taylor, _ = sampling_roa(f, V_taylor_fn, V_taylor_dot_fn, state_lims, N = 10000)\n",
    "levelset_taylor = cs.Function('V_level', [state], [V_taylor - r_taylor])\n",
    "r_taylor"
   ]
  },
  {
   "cell_type": "code",
   "execution_count": 27,
   "metadata": {},
   "outputs": [
    {
     "ename": "SyntaxError",
     "evalue": "invalid syntax (1120184662.py, line 2)",
     "output_type": "error",
     "traceback": [
      "\u001b[0;36m  Cell \u001b[0;32mIn[27], line 2\u001b[0;36m\u001b[0m\n\u001b[0;31m    YfНо есть корреляция: чем лучше зафиттился DFL, тем лучше этот регион\u001b[0m\n\u001b[0m         ^\u001b[0m\n\u001b[0;31mSyntaxError\u001b[0m\u001b[0;31m:\u001b[0m invalid syntax\n"
     ]
    }
   ],
   "source": [
    "phase_portrait(f, x_range=[3, 3], density=1.2)\n",
    "YfНо есть корреляция: чем лучше зафиттился DFL, тем лучше этот регион\n",
    "draw_elipse(\n",
    "    [-3, 3], \n",
    "    f = levelset_taylor, \n",
    "    cs_func = True, \n",
    "    args=tuple(),\n",
    "    plt_args = {\n",
    "        'linewidths': 2,\n",
    "        'colors': 'red',\n",
    "    } \n",
    ")\n",
    "\n",
    "draw_elipse(\n",
    "    [-3, 3], \n",
    "    f = levelset_dfl, \n",
    "    cs_func = True, \n",
    "    args=tuple(),\n",
    "    plt_args = {\n",
    "        'linewidths': 2,\n",
    "        'colors': 'blue',\n",
    "    } \n",
    ")\n",
    "\n",
    "plt.show()"
   ]
  }
 ],
 "metadata": {
  "kernelspec": {
   "display_name": "darli",
   "language": "python",
   "name": "python3"
  },
  "language_info": {
   "codemirror_mode": {
    "name": "ipython",
    "version": 3
   },
   "file_extension": ".py",
   "mimetype": "text/x-python",
   "name": "python",
   "nbconvert_exporter": "python",
   "pygments_lexer": "ipython3",
   "version": "3.10.13"
  }
 },
 "nbformat": 4,
 "nbformat_minor": 2
}
